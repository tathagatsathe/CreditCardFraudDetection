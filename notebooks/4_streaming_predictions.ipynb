{
 "cells": [
  {
   "cell_type": "markdown",
   "metadata": {},
   "source": [
    "# Making predictions using streaming aggregated features\n",
    "\n",
    "All prior notebooks have been setting up our end to end solution. Now that all those steps are complete, it is time to see the solution in action. In this notebook, we will send credit card transactions to our input Kinesis stream and show that we can detect fraud. We take advantage of multiple online feature groups in the Amazon SageMaker Feature Store. One of those feature groups is refreshed by a processing job, which we would run nightly to provide aggregate features looking back one week. The other feature group uses streaming ingestion to aggregate features that look back over a rolling 10-minute window.\n",
    "\n",
    "<img src=\"./images/streaming_prediction.png\" />\n",
    "\n",
    "\n",
    "### Recap of what is in place\n",
    "\n",
    "Here is a recap of what we have done so far:\n",
    "\n",
    "1. In [notebook 0](./0_prepare_transactions_dataset.ipynb), We generated a synthetic dataset of transactions, including simulated fraud attacks.\n",
    "2. In [notebook 1](./1_setup.ipynb), we created our two feature groups. In that same notebook, we also created a Kinesis data stream and a Kinesis Data Analytics SQL application that consumes the transaction stream and produces aggregate features. These features are provided in near real time to Lambda, and they look back over a 10 minute window.\n",
    "3. In [notebook 2](./2_batch_ingestion.ipynb), we used a SageMaker Processing Job to create aggregated features and used them to feed both the training dataset as well as an online feature group.\n",
    "4. In [notebook 3](./3_train_and_deploy_model.ipynb), we trained and deployed an XGBoost model to detect fraud.\n",
    "5. Our [CloudFormation template](https://console.aws.amazon.com/cloudformation/home) deployed a pair of Lambda functions. One listens to the KDA SQL output and keeps the `cc-agg-fg` feature group up to date. The other Lambda listens to the Kinesis data stream for transactions, pulls a set of features from multiple feature groups, and invokes our fraud detection endpoint, as seen in the above picture."
   ]
  },
  {
   "cell_type": "markdown",
   "metadata": {},
   "source": [
    "## Imports and overall setup\n",
    "\n",
    "### Imports and initialization"
   ]
  },
  {
   "cell_type": "code",
   "execution_count": 1,
   "metadata": {},
   "outputs": [],
   "source": [
    "from datetime import datetime\n",
    "import numpy as np\n",
    "import pandas as pd\n",
    "import sagemaker\n",
    "import boto3\n",
    "import json\n",
    "import time"
   ]
  },
  {
   "cell_type": "code",
   "execution_count": 2,
   "metadata": {},
   "outputs": [],
   "source": [
    "LOCAL_DIR = './data'\n",
    "BUCKET = sagemaker.Session().default_bucket()\n",
    "PREFIX = 'testing'\n",
    "STREAM_NAME = 'cc-stream'\n",
    "\n",
    "s3_client = boto3.Session().client('s3')\n",
    "kinesis_client = boto3.client('kinesis')"
   ]
  },
  {
   "cell_type": "code",
   "execution_count": 3,
   "metadata": {},
   "outputs": [],
   "source": [
    "# The exact name of the Lambda function is controlled by our CloudFormation template, \n",
    "# so we access that here. We will use this to help get to the proper CloudWatch log group to see the\n",
    "# results of our testing.\n",
    "%store -r\n",
    "predict_lambda_name = 'StreamingIngestAggFeatures'"
   ]
  },
  {
   "cell_type": "markdown",
   "metadata": {},
   "source": [
    "### Ensure Lambda knows which SageMaker endpoint to use\n",
    "In our previous notebook that deploys a SageMaker endpoint, we allow the endpoint name to be generated on the fly instead of hard-coding a specific endpoint name. Our Lambda function that invokes the endpoint thus needs a way to know the endpoint name. We handle that through a Lambda environment variable.\n",
    "\n",
    "This section of code simply takes care of updating end ENDPOINT_NAME Lambda environment variable. It is important to do so before we start feeding transactions into our Kinesis stream."
   ]
  },
  {
   "cell_type": "code",
   "execution_count": 4,
   "metadata": {},
   "outputs": [
    {
     "name": "stdout",
     "output_type": "stream",
     "text": [
      "Updating Lambda to use endpoint: sagemaker-xgboost-2023-05-29-11-21-13-337 for ARN: arn:aws:lambda:ap-south-1:499469212086:function:InvokeFraudEndpointLambda\n"
     ]
    }
   ],
   "source": [
    "lambda_client = boto3.client('lambda')\n",
    "\n",
    "# Grab the latest endpoint name we used in the previous notebook, as well as the ARN for the lambda\n",
    "%store -r\n",
    "\n",
    "print(f'Updating Lambda to use endpoint: {endpoint_name} for ARN: {lambda_to_model_arn}')\n",
    "\n",
    "variables = lambda_client.get_function_configuration(FunctionName=lambda_to_model_arn)['Environment']['Variables']\n",
    "variables['ENDPOINT_NAME'] = endpoint_name\n",
    "resp = lambda_client.update_function_configuration(\n",
    "    FunctionName=lambda_to_model_arn,\n",
    "      Environment={\n",
    "        'Variables': variables\n",
    "    }\n",
    ")"
   ]
  },
  {
   "cell_type": "code",
   "execution_count": 17,
   "metadata": {},
   "outputs": [
    {
     "name": "stdout",
     "output_type": "stream",
     "text": [
      "Updating Lambda to use endpoint: sagemaker-xgboost-2023-05-29-11-21-13-337 for ARN: arn:aws:lambda:ap-south-1:499469212086:function:GetPredictionLambdaFunction\n"
     ]
    }
   ],
   "source": [
    "print(f'Updating Lambda to use endpoint: {endpoint_name} for ARN: {fraud_predict_lamda_arn}')\n",
    "\n",
    "variables = lambda_client.get_function_configuration(FunctionName=fraud_predict_lamda_arn)['Environment']['Variables']\n",
    "variables['ENDPOINT_NAME'] = endpoint_name\n",
    "resp = lambda_client.update_function_configuration(\n",
    "    FunctionName=fraud_predict_lamda_arn,\n",
    "      Environment={\n",
    "        'Variables': variables\n",
    "    }\n",
    ")"
   ]
  },
  {
   "cell_type": "markdown",
   "metadata": {},
   "source": [
    "### Access the transaction test dataset"
   ]
  },
  {
   "cell_type": "code",
   "execution_count": 6,
   "metadata": {},
   "outputs": [
    {
     "data": {
      "text/html": [
       "<div>\n",
       "<style scoped>\n",
       "    .dataframe tbody tr th:only-of-type {\n",
       "        vertical-align: middle;\n",
       "    }\n",
       "\n",
       "    .dataframe tbody tr th {\n",
       "        vertical-align: top;\n",
       "    }\n",
       "\n",
       "    .dataframe thead th {\n",
       "        text-align: right;\n",
       "    }\n",
       "</style>\n",
       "<table border=\"1\" class=\"dataframe\">\n",
       "  <thead>\n",
       "    <tr style=\"text-align: right;\">\n",
       "      <th></th>\n",
       "      <th>tid</th>\n",
       "      <th>datetime</th>\n",
       "      <th>cc_num</th>\n",
       "      <th>amount</th>\n",
       "      <th>fraud_label</th>\n",
       "      <th>num_trans_last_10m</th>\n",
       "      <th>avg_amt_last_10m</th>\n",
       "      <th>num_trans_last_1w</th>\n",
       "      <th>avg_amt_last_1w</th>\n",
       "      <th>amt_ratio1</th>\n",
       "      <th>amt_ratio2</th>\n",
       "      <th>count_ratio</th>\n",
       "    </tr>\n",
       "  </thead>\n",
       "  <tbody>\n",
       "    <tr>\n",
       "      <th>0</th>\n",
       "      <td>21c76a5a0845d5a448269d89365c8191</td>\n",
       "      <td>2020-05-15T13:00:46.000Z</td>\n",
       "      <td>4136262720215016</td>\n",
       "      <td>64.96</td>\n",
       "      <td>0</td>\n",
       "      <td>1</td>\n",
       "      <td>64.960</td>\n",
       "      <td>23</td>\n",
       "      <td>444.252174</td>\n",
       "      <td>0.146223</td>\n",
       "      <td>0.146223</td>\n",
       "      <td>0.043478</td>\n",
       "    </tr>\n",
       "    <tr>\n",
       "      <th>1</th>\n",
       "      <td>8927192e3320f173c4afdd86600e6737</td>\n",
       "      <td>2020-05-15T14:34:31.000Z</td>\n",
       "      <td>4136262720215016</td>\n",
       "      <td>67.37</td>\n",
       "      <td>0</td>\n",
       "      <td>1</td>\n",
       "      <td>67.370</td>\n",
       "      <td>24</td>\n",
       "      <td>428.548750</td>\n",
       "      <td>0.157205</td>\n",
       "      <td>0.157205</td>\n",
       "      <td>0.041667</td>\n",
       "    </tr>\n",
       "    <tr>\n",
       "      <th>2</th>\n",
       "      <td>a0aa1958163846b2b70260f5eee9452f</td>\n",
       "      <td>2020-05-15T16:40:33.000Z</td>\n",
       "      <td>4136262720215016</td>\n",
       "      <td>2886.08</td>\n",
       "      <td>0</td>\n",
       "      <td>1</td>\n",
       "      <td>2886.080</td>\n",
       "      <td>25</td>\n",
       "      <td>526.850000</td>\n",
       "      <td>5.477992</td>\n",
       "      <td>5.477992</td>\n",
       "      <td>0.040000</td>\n",
       "    </tr>\n",
       "    <tr>\n",
       "      <th>3</th>\n",
       "      <td>d37097628d8b0be94049129066792226</td>\n",
       "      <td>2020-05-15T22:11:32.000Z</td>\n",
       "      <td>4136262720215016</td>\n",
       "      <td>81.79</td>\n",
       "      <td>0</td>\n",
       "      <td>1</td>\n",
       "      <td>81.790</td>\n",
       "      <td>25</td>\n",
       "      <td>520.631200</td>\n",
       "      <td>0.157098</td>\n",
       "      <td>0.157098</td>\n",
       "      <td>0.040000</td>\n",
       "    </tr>\n",
       "    <tr>\n",
       "      <th>4</th>\n",
       "      <td>074ee85a89650ac843a9812d2c32778b</td>\n",
       "      <td>2020-05-15T22:19:44.000Z</td>\n",
       "      <td>4136262720215016</td>\n",
       "      <td>26.04</td>\n",
       "      <td>0</td>\n",
       "      <td>2</td>\n",
       "      <td>53.915</td>\n",
       "      <td>26</td>\n",
       "      <td>501.608462</td>\n",
       "      <td>0.107484</td>\n",
       "      <td>0.051913</td>\n",
       "      <td>0.076923</td>\n",
       "    </tr>\n",
       "  </tbody>\n",
       "</table>\n",
       "</div>"
      ],
      "text/plain": [
       "                                tid                  datetime  \\\n",
       "0  21c76a5a0845d5a448269d89365c8191  2020-05-15T13:00:46.000Z   \n",
       "1  8927192e3320f173c4afdd86600e6737  2020-05-15T14:34:31.000Z   \n",
       "2  a0aa1958163846b2b70260f5eee9452f  2020-05-15T16:40:33.000Z   \n",
       "3  d37097628d8b0be94049129066792226  2020-05-15T22:11:32.000Z   \n",
       "4  074ee85a89650ac843a9812d2c32778b  2020-05-15T22:19:44.000Z   \n",
       "\n",
       "             cc_num   amount  fraud_label  num_trans_last_10m  \\\n",
       "0  4136262720215016    64.96            0                   1   \n",
       "1  4136262720215016    67.37            0                   1   \n",
       "2  4136262720215016  2886.08            0                   1   \n",
       "3  4136262720215016    81.79            0                   1   \n",
       "4  4136262720215016    26.04            0                   2   \n",
       "\n",
       "   avg_amt_last_10m  num_trans_last_1w  avg_amt_last_1w  amt_ratio1  \\\n",
       "0            64.960                 23       444.252174    0.146223   \n",
       "1            67.370                 24       428.548750    0.157205   \n",
       "2          2886.080                 25       526.850000    5.477992   \n",
       "3            81.790                 25       520.631200    0.157098   \n",
       "4            53.915                 26       501.608462    0.107484   \n",
       "\n",
       "   amt_ratio2  count_ratio  \n",
       "0    0.146223     0.043478  \n",
       "1    0.157205     0.041667  \n",
       "2    5.477992     0.040000  \n",
       "3    0.157098     0.040000  \n",
       "4    0.051913     0.076923  "
      ]
     },
     "execution_count": 6,
     "metadata": {},
     "output_type": "execute_result"
    }
   ],
   "source": [
    "test_file_path = './data/test.csv'\n",
    "test_df = pd.read_csv(test_file_path)\n",
    "test_df.head()"
   ]
  },
  {
   "cell_type": "code",
   "execution_count": 7,
   "metadata": {},
   "outputs": [
    {
     "name": "stdout",
     "output_type": "stream",
     "text": [
      "(6229, 12)\n"
     ]
    }
   ],
   "source": [
    "test_df.head()\n",
    "print(test_df.shape)"
   ]
  },
  {
   "cell_type": "markdown",
   "metadata": {},
   "source": [
    "## Test out the solution, end to end"
   ]
  },
  {
   "cell_type": "markdown",
   "metadata": {},
   "source": [
    "### First, a few utility functions"
   ]
  },
  {
   "cell_type": "code",
   "execution_count": 8,
   "metadata": {},
   "outputs": [],
   "source": [
    "def get_cloudwatch_logs_url(start_time, end_time):\n",
    "    log_group_name = '/aws/lambda/' + predict_lambda_name\n",
    "    # get the latest log stream for our Lambda that makes fraud predictions\n",
    "    cw_client = boto3.client('logs')\n",
    "    last_cw_evt = 0\n",
    "    while last_cw_evt < int(start_test_time * 1000):\n",
    "        streams = cw_client.describe_log_streams(logGroupName=log_group_name,\n",
    "                                                 orderBy='LastEventTime',\n",
    "                                                 descending=True)['logStreams']\n",
    "        last_cw_evt = streams[0]['lastIngestionTime'] #'lastEventTimestamp']\n",
    "        latest_stream = str(streams[0]['logStreamName']).replace('/', '$252F').replace('[$LATEST]', '$255B$2524LATEST$255D')\n",
    "        if last_cw_evt < int(start_test_time * 1000):\n",
    "            print('waiting for updated log stream...')\n",
    "            time.sleep(10)\n",
    "\n",
    "    # produce a valid URL to get to that log stream\n",
    "    region = boto3.session.Session().region_name\n",
    "    log_group_escaped = log_group_name.replace('/', '$252F')\n",
    "    cw_url = f'https://console.aws.amazon.com/cloudwatch/home?region={region}#logsV2:log-groups/log-group/{log_group_escaped}'\n",
    "    time_filter = f'$26start$3D{int(start_test_time * 1000) - 10000}$26end$3D{int(end_test_time * 1000) + 40000}'\n",
    "    full_cw_url = f'{cw_url}/log-events/{latest_stream}$3FfilterPattern$3DPrediction+{time_filter}'\n",
    "    print('Updated log stream is ready.')\n",
    "    return full_cw_url"
   ]
  },
  {
   "cell_type": "code",
   "execution_count": 9,
   "metadata": {},
   "outputs": [],
   "source": [
    "def put_to_stream(stream_name, cc_num, merchant, amount, zip_code, timestamp):\n",
    "    \n",
    "    payload = {\n",
    "        'cc_num': int(cc_num),\n",
    "        'merchant': merchant,\n",
    "        'amount': amount,\n",
    "        'zip_code': zip_code,\n",
    "        'trans_ts': timestamp\n",
    "    }\n",
    "    ret_status = True\n",
    "    data = json.dumps(payload)\n",
    "    print(f'Sending transaction on card: {cc_num}...')\n",
    "    response = kinesis_client.put_record(StreamName = stream_name,\n",
    "                                             Data = data,\n",
    "                                             PartitionKey = 'shard1')\n",
    "    \n",
    "    if (response['ResponseMetadata']['HTTPStatusCode'] != 200):\n",
    "        print(\"ERROR: Kinesis put_record failed: \\n{}\".format(json.dumps(response)))\n",
    "        ret_status = False\n",
    "        \n",
    "    return ret_status"
   ]
  },
  {
   "cell_type": "code",
   "execution_count": 10,
   "metadata": {},
   "outputs": [],
   "source": [
    "def simulate_fraud(stream_name, cc_num):\n",
    "    min_wait = 1; max_wait = 2\n",
    "    for i in range(10):\n",
    "        random_amt = round(np.random.uniform(1.00, 50.00), 2)\n",
    "        seconds_to_wait = np.random.uniform(min_wait, max_wait)\n",
    "        print(f'waiting {seconds_to_wait:.1f} seconds to send trans {i}...')\n",
    "        time.sleep(seconds_to_wait)\n",
    "        put_to_stream(stream_name, int(cc_num), 'Random Corp', random_amt, '03099', time.time())"
   ]
  },
  {
   "cell_type": "markdown",
   "metadata": {},
   "source": [
    "### Send some transactions, and see the results\n",
    "To show that the solution works, we send a single transaction to each of three different credit cards. Then, we simulate a fraud attack on a 4th credit card by sending many transactions in quick succession. The output from our Lambda function is then shown from CloudWatch log streams. Here's an example of what you should see as a result:\n",
    "\n",
    "<img src=\"./images/log_results.png\" />\n",
    "\n",
    "As expected, the first three one-off transactions are predicted as NOT FRAUD. Of the ten fraudulent transactions, the first is predicted as NOT FRAUD, and the rest are all correctly identified as FRAUD. Notice how the aggregate features are kept current, helping drive more accurate predictions.\n",
    "\n",
    "Now let's give it a shot."
   ]
  },
  {
   "cell_type": "code",
   "execution_count": 11,
   "metadata": {},
   "outputs": [
    {
     "name": "stdout",
     "output_type": "stream",
     "text": [
      "Sending transaction on card: 4638396144844325...\n",
      "Sending transaction on card: 4829328237114208...\n",
      "Sending transaction on card: 4170840302810671...\n",
      "\n",
      "Now simulate a fraud attack...\n",
      "waiting 1.3 seconds to send trans 0...\n",
      "Sending transaction on card: 4376360021712050...\n",
      "waiting 2.0 seconds to send trans 1...\n",
      "Sending transaction on card: 4376360021712050...\n",
      "waiting 1.5 seconds to send trans 2...\n",
      "Sending transaction on card: 4376360021712050...\n",
      "waiting 1.8 seconds to send trans 3...\n",
      "Sending transaction on card: 4376360021712050...\n",
      "waiting 1.6 seconds to send trans 4...\n",
      "Sending transaction on card: 4376360021712050...\n",
      "waiting 1.2 seconds to send trans 5...\n",
      "Sending transaction on card: 4376360021712050...\n",
      "waiting 1.6 seconds to send trans 6...\n",
      "Sending transaction on card: 4376360021712050...\n",
      "waiting 1.1 seconds to send trans 7...\n",
      "Sending transaction on card: 4376360021712050...\n",
      "waiting 1.3 seconds to send trans 8...\n",
      "Sending transaction on card: 4376360021712050...\n",
      "waiting 1.8 seconds to send trans 9...\n",
      "Sending transaction on card: 4376360021712050...\n"
     ]
    }
   ],
   "source": [
    "cc_nums = test_df.cc_num.unique()[10:14]\n",
    "\n",
    "start_test_time = time.time() \n",
    "\n",
    "put_to_stream(STREAM_NAME, cc_nums[0], 'Merchant-0', round(np.random.uniform(100, 5000), 2), 'zip-0', time.time())\n",
    "put_to_stream(STREAM_NAME, cc_nums[1], 'Merchant-1', round(np.random.uniform(100, 5000), 2), 'zip-1', time.time())\n",
    "put_to_stream(STREAM_NAME, cc_nums[2], 'Merchant-2', round(np.random.uniform(100, 5000), 2), 'zip-2', time.time())\n",
    "\n",
    "print('\\nNow simulate a fraud attack...')\n",
    "fraud_cc_num = cc_nums[3]\n",
    "simulate_fraud(STREAM_NAME, fraud_cc_num)\n",
    "\n",
    "end_test_time = time.time() "
   ]
  },
  {
   "cell_type": "markdown",
   "metadata": {},
   "source": [
    "### Results can be seen in the CloudWatch log stream of our Lambda function\n",
    "The following cell dynamically creates a link to view the results. It waits for the CloudWatch log stream to have the output events from the transactions we just sent. The URL also hones in on the output from the specific timeframe of the transactions."
   ]
  },
  {
   "cell_type": "code",
   "execution_count": 12,
   "metadata": {},
   "outputs": [
    {
     "name": "stderr",
     "output_type": "stream",
     "text": [
      "/tmp/ipykernel_202767/2408153976.py:1: DeprecationWarning: Importing display from IPython.core.display is deprecated since IPython 7.14, please import from IPython display\n",
      "  from IPython.core.display import display, HTML\n"
     ]
    },
    {
     "name": "stdout",
     "output_type": "stream",
     "text": [
      "Updated log stream is ready.\n"
     ]
    },
    {
     "data": {
      "text/html": [
       "<b>Review results in this log stream <a target=\"blank\" href=\"https://console.aws.amazon.com/cloudwatch/home?region=ap-south-1#logsV2:log-groups/log-group/$252Faws$252Flambda$252FInvokeFraudEndpointLambda/log-events/2023$252F05$252F29$252F$255B$2524LATEST$255D099537440c374339b1ebdc6ed3943f99$3FfilterPattern$3DPrediction+$26start$3D1685359591881$26end$3D1685359657849\">Lambda fraud detection results</a></b>"
      ],
      "text/plain": [
       "<IPython.core.display.HTML object>"
      ]
     },
     "metadata": {},
     "output_type": "display_data"
    }
   ],
   "source": [
    "from IPython.core.display import display, HTML\n",
    "\n",
    "full_cw_url = get_cloudwatch_logs_url(start_test_time, end_test_time)\n",
    "full_cw_url\n",
    "display(HTML(f'<b>Review results in this log stream <a target=\"blank\" href=\"{full_cw_url}\">Lambda fraud detection results</a></b>'))"
   ]
  },
  {
   "cell_type": "markdown",
   "metadata": {},
   "source": [
    "### Feed a stream of transactions [optional]\n",
    "If you would like to send additional credit card transactions to simulate more input traffic to the feature pipeline, you can pull from the test dataset as shown below. Just pass in how many transactions you want to send, and the max wait time between transactions (in seconds)."
   ]
  },
  {
   "cell_type": "code",
   "execution_count": 13,
   "metadata": {},
   "outputs": [],
   "source": [
    "import time\n",
    "\n",
    "def simulate_traffic(df, max_wait, num_trans):\n",
    "    for i in range(num_trans):\n",
    "        row = test_df.iloc[i]\n",
    "        cc_num = row['cc_num']\n",
    "        zip_code = '0'\n",
    "        merchant = 'A'\n",
    "        amt = row['amount']\n",
    "        print(f'cc_num: {cc_num}, amt: {amt}')\n",
    "        seconds_to_wait = int(np.random.uniform(0.1, max_wait))\n",
    "        print(f'waiting {seconds_to_wait} seconds to send trans {i}...')\n",
    "        time.sleep(seconds_to_wait)\n",
    "        print(f' putting trans with card: {cc_num}, amt: {amt}, zip: {zip_code}, merchant: {merchant}')\n",
    "        status = put_to_stream(STREAM_NAME,cc_num, merchant, amt, zip_code, time.time())\n",
    "        if (not status):\n",
    "            print('Error found during write to Kinesis Stream')\n",
    "            break\n",
    "        i += 1\n",
    "        if i > (num_trans -1):\n",
    "            break"
   ]
  },
  {
   "cell_type": "code",
   "execution_count": 14,
   "metadata": {},
   "outputs": [
    {
     "name": "stdout",
     "output_type": "stream",
     "text": [
      "cc_num: 4136262720215016, amt: 64.96\n",
      "waiting 0 seconds to send trans 0...\n",
      " putting trans with card: 4136262720215016, amt: 64.96, zip: 0, merchant: A\n",
      "Sending transaction on card: 4136262720215016...\n",
      "cc_num: 4136262720215016, amt: 67.37\n",
      "waiting 0 seconds to send trans 1...\n",
      " putting trans with card: 4136262720215016, amt: 67.37, zip: 0, merchant: A\n",
      "Sending transaction on card: 4136262720215016...\n",
      "cc_num: 4136262720215016, amt: 2886.08\n",
      "waiting 0 seconds to send trans 2...\n",
      " putting trans with card: 4136262720215016, amt: 2886.08, zip: 0, merchant: A\n",
      "Sending transaction on card: 4136262720215016...\n",
      "cc_num: 4136262720215016, amt: 81.79\n",
      "waiting 0 seconds to send trans 3...\n",
      " putting trans with card: 4136262720215016, amt: 81.79, zip: 0, merchant: A\n",
      "Sending transaction on card: 4136262720215016...\n",
      "cc_num: 4136262720215016, amt: 26.04\n",
      "waiting 0 seconds to send trans 4...\n",
      " putting trans with card: 4136262720215016, amt: 26.04, zip: 0, merchant: A\n",
      "Sending transaction on card: 4136262720215016...\n"
     ]
    }
   ],
   "source": [
    "simulate_traffic(test_df, 2, 5)"
   ]
  },
  {
   "cell_type": "code",
   "execution_count": 15,
   "metadata": {},
   "outputs": [
    {
     "data": {
      "text/html": [
       "<div>\n",
       "<style scoped>\n",
       "    .dataframe tbody tr th:only-of-type {\n",
       "        vertical-align: middle;\n",
       "    }\n",
       "\n",
       "    .dataframe tbody tr th {\n",
       "        vertical-align: top;\n",
       "    }\n",
       "\n",
       "    .dataframe thead th {\n",
       "        text-align: right;\n",
       "    }\n",
       "</style>\n",
       "<table border=\"1\" class=\"dataframe\">\n",
       "  <thead>\n",
       "    <tr style=\"text-align: right;\">\n",
       "      <th></th>\n",
       "      <th>tid</th>\n",
       "      <th>datetime</th>\n",
       "      <th>cc_num</th>\n",
       "      <th>amount</th>\n",
       "      <th>fraud_label</th>\n",
       "      <th>num_trans_last_10m</th>\n",
       "      <th>avg_amt_last_10m</th>\n",
       "      <th>num_trans_last_1w</th>\n",
       "      <th>avg_amt_last_1w</th>\n",
       "      <th>amt_ratio1</th>\n",
       "      <th>amt_ratio2</th>\n",
       "      <th>count_ratio</th>\n",
       "    </tr>\n",
       "  </thead>\n",
       "  <tbody>\n",
       "    <tr>\n",
       "      <th>0</th>\n",
       "      <td>21c76a5a0845d5a448269d89365c8191</td>\n",
       "      <td>2020-05-15T13:00:46.000Z</td>\n",
       "      <td>4136262720215016</td>\n",
       "      <td>64.96</td>\n",
       "      <td>0</td>\n",
       "      <td>1</td>\n",
       "      <td>64.960</td>\n",
       "      <td>23</td>\n",
       "      <td>444.252174</td>\n",
       "      <td>0.146223</td>\n",
       "      <td>0.146223</td>\n",
       "      <td>0.043478</td>\n",
       "    </tr>\n",
       "    <tr>\n",
       "      <th>1</th>\n",
       "      <td>8927192e3320f173c4afdd86600e6737</td>\n",
       "      <td>2020-05-15T14:34:31.000Z</td>\n",
       "      <td>4136262720215016</td>\n",
       "      <td>67.37</td>\n",
       "      <td>0</td>\n",
       "      <td>1</td>\n",
       "      <td>67.370</td>\n",
       "      <td>24</td>\n",
       "      <td>428.548750</td>\n",
       "      <td>0.157205</td>\n",
       "      <td>0.157205</td>\n",
       "      <td>0.041667</td>\n",
       "    </tr>\n",
       "    <tr>\n",
       "      <th>2</th>\n",
       "      <td>a0aa1958163846b2b70260f5eee9452f</td>\n",
       "      <td>2020-05-15T16:40:33.000Z</td>\n",
       "      <td>4136262720215016</td>\n",
       "      <td>2886.08</td>\n",
       "      <td>0</td>\n",
       "      <td>1</td>\n",
       "      <td>2886.080</td>\n",
       "      <td>25</td>\n",
       "      <td>526.850000</td>\n",
       "      <td>5.477992</td>\n",
       "      <td>5.477992</td>\n",
       "      <td>0.040000</td>\n",
       "    </tr>\n",
       "    <tr>\n",
       "      <th>3</th>\n",
       "      <td>d37097628d8b0be94049129066792226</td>\n",
       "      <td>2020-05-15T22:11:32.000Z</td>\n",
       "      <td>4136262720215016</td>\n",
       "      <td>81.79</td>\n",
       "      <td>0</td>\n",
       "      <td>1</td>\n",
       "      <td>81.790</td>\n",
       "      <td>25</td>\n",
       "      <td>520.631200</td>\n",
       "      <td>0.157098</td>\n",
       "      <td>0.157098</td>\n",
       "      <td>0.040000</td>\n",
       "    </tr>\n",
       "    <tr>\n",
       "      <th>4</th>\n",
       "      <td>074ee85a89650ac843a9812d2c32778b</td>\n",
       "      <td>2020-05-15T22:19:44.000Z</td>\n",
       "      <td>4136262720215016</td>\n",
       "      <td>26.04</td>\n",
       "      <td>0</td>\n",
       "      <td>2</td>\n",
       "      <td>53.915</td>\n",
       "      <td>26</td>\n",
       "      <td>501.608462</td>\n",
       "      <td>0.107484</td>\n",
       "      <td>0.051913</td>\n",
       "      <td>0.076923</td>\n",
       "    </tr>\n",
       "  </tbody>\n",
       "</table>\n",
       "</div>"
      ],
      "text/plain": [
       "                                tid                  datetime  \\\n",
       "0  21c76a5a0845d5a448269d89365c8191  2020-05-15T13:00:46.000Z   \n",
       "1  8927192e3320f173c4afdd86600e6737  2020-05-15T14:34:31.000Z   \n",
       "2  a0aa1958163846b2b70260f5eee9452f  2020-05-15T16:40:33.000Z   \n",
       "3  d37097628d8b0be94049129066792226  2020-05-15T22:11:32.000Z   \n",
       "4  074ee85a89650ac843a9812d2c32778b  2020-05-15T22:19:44.000Z   \n",
       "\n",
       "             cc_num   amount  fraud_label  num_trans_last_10m  \\\n",
       "0  4136262720215016    64.96            0                   1   \n",
       "1  4136262720215016    67.37            0                   1   \n",
       "2  4136262720215016  2886.08            0                   1   \n",
       "3  4136262720215016    81.79            0                   1   \n",
       "4  4136262720215016    26.04            0                   2   \n",
       "\n",
       "   avg_amt_last_10m  num_trans_last_1w  avg_amt_last_1w  amt_ratio1  \\\n",
       "0            64.960                 23       444.252174    0.146223   \n",
       "1            67.370                 24       428.548750    0.157205   \n",
       "2          2886.080                 25       526.850000    5.477992   \n",
       "3            81.790                 25       520.631200    0.157098   \n",
       "4            53.915                 26       501.608462    0.107484   \n",
       "\n",
       "   amt_ratio2  count_ratio  \n",
       "0    0.146223     0.043478  \n",
       "1    0.157205     0.041667  \n",
       "2    5.477992     0.040000  \n",
       "3    0.157098     0.040000  \n",
       "4    0.051913     0.076923  "
      ]
     },
     "execution_count": 15,
     "metadata": {},
     "output_type": "execute_result"
    }
   ],
   "source": [
    "test_df[:5]"
   ]
  }
 ],
 "metadata": {
  "kernelspec": {
   "display_name": "base",
   "language": "python",
   "name": "python3"
  },
  "language_info": {
   "codemirror_mode": {
    "name": "ipython",
    "version": 3
   },
   "file_extension": ".py",
   "mimetype": "text/x-python",
   "name": "python",
   "nbconvert_exporter": "python",
   "pygments_lexer": "ipython3",
   "version": "3.9.12"
  },
  "vscode": {
   "interpreter": {
    "hash": "08a7cdee6b48bedb655c5dec0d7984a38f40451508c9ac767696289b7bbe8541"
   }
  }
 },
 "nbformat": 4,
 "nbformat_minor": 4
}
